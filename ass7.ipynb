{
 "cells": [
  {
   "cell_type": "code",
   "execution_count": 8,
   "id": "56d80b6a-7933-461e-aae4-1433301d436c",
   "metadata": {},
   "outputs": [],
   "source": [
    "#Q.1\n",
    "\n",
    "def isIsomorphic(s, t):\n",
    "    if len(s) != len(t):\n",
    "        return False\n",
    "\n",
    "    s_map = {}\n",
    "    t_map = {}\n",
    "\n",
    "    for i in range(len(s)):\n",
    "        if s[i] in s_map and t[i] in t_map:\n",
    "            if s_map[s[i]] != t[i] or t_map[t[i]] != s[i]:\n",
    "                return False\n",
    "        elif s[i] not in s_map and t[i] not in t_map:\n",
    "            s_map[s[i]] = t[i]\n",
    "            t_map[t[i]] = s[i]\n",
    "        else:\n",
    "            return False\n",
    "\n",
    "    return True\n"
   ]
  },
  {
   "cell_type": "code",
   "execution_count": 2,
   "id": "555659d7-4c02-4bae-8c84-2a8d2fc8bd0f",
   "metadata": {},
   "outputs": [],
   "source": [
    "#Q.2\n",
    "\n",
    "def isStrobogrammatic(num):\n",
    "    digit_map = {'0': '0', '1': '1', '6': '9', '8': '8', '9': '6'}\n",
    "    left, right = 0, len(num) - 1\n",
    "\n",
    "    while left <= right:\n",
    "        if num[left] not in digit_map or digit_map[num[left]] != num[right]:\n",
    "            return False\n",
    "        left += 1\n",
    "        right -= 1\n",
    "\n",
    "    if left == right and num[left] not in ['0', '1', '8']:\n",
    "        return False\n",
    "\n",
    "    return True\n"
   ]
  },
  {
   "cell_type": "code",
   "execution_count": 3,
   "id": "4fbfd8a4-852b-442c-a7e7-ad751e9b3d63",
   "metadata": {},
   "outputs": [],
   "source": [
    "#Q.3\n",
    "\n",
    "def addStrings(num1, num2):\n",
    "    i, j = len(num1) - 1, len(num2) - 1\n",
    "    carry = 0\n",
    "    result = \"\"\n",
    "\n",
    "    while i >= 0 or j >= 0:\n",
    "        digit1 = ord(num1[i]) - ord('0') if i >= 0 else 0\n",
    "        digit2 = ord(num2[j]) - ord('0') if j >= 0 else 0\n",
    "\n",
    "        current_sum = digit1 + digit2 + carry\n",
    "        digit = current_sum % 10\n",
    "        carry = current_sum // 10\n",
    "\n",
    "        result = str(digit) + result\n",
    "\n",
    "        i -= 1\n",
    "        j -= 1\n",
    "\n",
    "    if carry > 0:\n",
    "        result = str(carry) + result\n",
    "\n",
    "    return result\n"
   ]
  },
  {
   "cell_type": "code",
   "execution_count": 4,
   "id": "862a7f0a-e9e7-4127-a760-496a898d84c7",
   "metadata": {},
   "outputs": [],
   "source": [
    "#Q.4\n",
    "\n",
    "def reverseWords(s):\n",
    "    words = s.split()\n",
    "\n",
    "    for i in range(len(words)):\n",
    "        words[i] = words[i][::-1]\n",
    "\n",
    "    return ' '.join(words)\n"
   ]
  },
  {
   "cell_type": "code",
   "execution_count": 5,
   "id": "59fedcb7-029a-4e71-a325-9d0602d85272",
   "metadata": {},
   "outputs": [],
   "source": [
    "#Q.5\n",
    "\n",
    "def reverseStr(s, k):\n",
    "    chars = list(s)\n",
    "    n = len(chars)\n",
    "\n",
    "    for i in range(0, n, 2 * k):\n",
    "        chars[i:i+k] = reversed(chars[i:i+k])\n",
    "        n = min(i + k, n)\n",
    "\n",
    "    return ''.join(chars)\n"
   ]
  },
  {
   "cell_type": "code",
   "execution_count": 6,
   "id": "1f2ced19-f244-4956-bb8a-5411fb95d7a6",
   "metadata": {},
   "outputs": [],
   "source": [
    "#Q.6\n",
    "\n",
    "def rotateString(s, goal):\n",
    "    if len(s) != len(goal):\n",
    "        return False\n",
    "\n",
    "    s_double = s + s\n",
    "\n",
    "    if goal in s_double:\n",
    "        return True\n",
    "    else:\n",
    "        return False\n"
   ]
  },
  {
   "cell_type": "code",
   "execution_count": 7,
   "id": "4c425e8c-b153-46ca-97d2-2ed935d9ae55",
   "metadata": {},
   "outputs": [],
   "source": [
    "#Q.7\n",
    "\n",
    "def backspaceCompare(s, t):\n",
    "    def processString(string):\n",
    "        stack = []\n",
    "        for c in string:\n",
    "            if c != '#':\n",
    "                stack.append(c)\n",
    "            elif stack:\n",
    "                stack.pop()\n",
    "        return ''.join(stack)\n",
    "\n",
    "    return processString(s) == processString(t)\n"
   ]
  },
  {
   "cell_type": "code",
   "execution_count": null,
   "id": "69b10f5f-436e-4536-8f2b-c264ed35d86b",
   "metadata": {},
   "outputs": [],
   "source": [
    "#Q.8\n",
    "\n",
    "def checkStraightLine(coordinates):\n",
    "    x1, y1 = coordinates[0]\n",
    "    x2, y2 = coordinates[1]\n",
    "    \n",
    "    slope = float('inf') if x2 - x1 == 0 else (y2 - y1) / (x2 - x1)\n",
    "\n",
    "    for i in range(2, len(coordinates)):\n",
    "        x, y = coordinates[i]\n",
    "        current_slope = float('inf') if x - x1 == 0 else (y - y1) / (x - x1)\n",
    "        \n",
    "        if slope != current_slope:\n",
    "            return False\n",
    "\n",
    "    return True\n"
   ]
  }
 ],
 "metadata": {
  "kernelspec": {
   "display_name": "Python 3 (ipykernel)",
   "language": "python",
   "name": "python3"
  },
  "language_info": {
   "codemirror_mode": {
    "name": "ipython",
    "version": 3
   },
   "file_extension": ".py",
   "mimetype": "text/x-python",
   "name": "python",
   "nbconvert_exporter": "python",
   "pygments_lexer": "ipython3",
   "version": "3.10.8"
  }
 },
 "nbformat": 4,
 "nbformat_minor": 5
}
